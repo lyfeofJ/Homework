{
 "cells": [
  {
   "cell_type": "code",
   "execution_count": 2,
   "id": "3dd4d7ef",
   "metadata": {},
   "outputs": [
    {
     "name": "stdout",
     "output_type": "stream",
     "text": [
      "0\n",
      "1\n",
      "2\n",
      "3\n",
      "4\n"
     ]
    }
   ],
   "source": [
    "n = 0\n",
    "while n < 10:\n",
    "    print(n)\n",
    "    n += 1\n",
    "    if n == 5:\n",
    "        break \n",
    "        "
   ]
  },
  {
   "cell_type": "code",
   "execution_count": 3,
   "id": "ecddc082",
   "metadata": {},
   "outputs": [
    {
     "name": "stdout",
     "output_type": "stream",
     "text": [
      "0\n",
      "1\n",
      "2\n",
      "3\n",
      "4\n",
      "5 is not less than 5\n"
     ]
    }
   ],
   "source": [
    "n = 0\n",
    "while n < 5:\n",
    "    print(n)\n",
    "    n += 1\n",
    "else: \n",
    "    print(n, 'is not less than 5')"
   ]
  },
  {
   "cell_type": "code",
   "execution_count": 15,
   "id": "133ff827",
   "metadata": {},
   "outputs": [
    {
     "name": "stdout",
     "output_type": "stream",
     "text": [
      "I like orange\n",
      "I like banana\n",
      "I like pear\n",
      "apple is really a fruit?\n"
     ]
    }
   ],
   "source": [
    "fav_fruits = ['orange', 'banana', 'pear', 'apple']\n",
    "for fruit in fav_fruits:  \n",
    "    if fruit != 'apple':\n",
    "        print('I like', fruit)\n",
    "    else:\n",
    "        print('apple is really a fruit?')"
   ]
  },
  {
   "cell_type": "code",
   "execution_count": 19,
   "id": "c16944ff",
   "metadata": {},
   "outputs": [
    {
     "name": "stdout",
     "output_type": "stream",
     "text": [
      "465\n"
     ]
    }
   ],
   "source": [
    "i = 1\n",
    "j = 0\n",
    "while i <= 30:\n",
    "    j += i\n",
    "    i += 1\n",
    "    \n",
    "print(j)"
   ]
  },
  {
   "cell_type": "code",
   "execution_count": 21,
   "id": "32a7e6d4",
   "metadata": {},
   "outputs": [
    {
     "name": "stdout",
     "output_type": "stream",
     "text": [
      "Grade is F\n"
     ]
    }
   ],
   "source": [
    "score = 55\n",
    "if score >= 90:\n",
    "    print('Grade is A')\n",
    "elif score <90 and score >= 80:\n",
    "    print('Grade is B')\n",
    "elif score <80 and score >= 70:\n",
    "        print('Grade is C')\n",
    "elif score < 70 and score >= 60:\n",
    "        print('Grade is D')\n",
    "else:\n",
    "    print('Grade is F')\n",
    "    "
   ]
  },
  {
   "cell_type": "code",
   "execution_count": 28,
   "id": "445054e6",
   "metadata": {},
   "outputs": [
    {
     "name": "stdout",
     "output_type": "stream",
     "text": [
      "Andy 88\n",
      "Amy 66\n",
      "James 90\n",
      "Jules 55\n",
      "Arthur 77\n"
     ]
    }
   ],
   "source": [
    "marks = {'Andy':88, 'Amy':66, 'James':90, 'Jules':55, 'Arthur':77}\n",
    "\n",
    "for students, grades in marks.items():\n",
    "    print(students, grades)"
   ]
  },
  {
   "cell_type": "code",
   "execution_count": 36,
   "id": "a7ff8036",
   "metadata": {},
   "outputs": [
    {
     "name": "stdout",
     "output_type": "stream",
     "text": [
      "75.2\n",
      "90\n",
      "55\n"
     ]
    }
   ],
   "source": [
    "total = 0\n",
    "for grades in marks.values():\n",
    "    total += grades\n",
    "mean = total/len(marks)\n",
    "print(mean)\n",
    "highest_grade = max(marks.values())\n",
    "print(highest_grade)\n",
    "lowest_grade = min(marks.values())\n",
    "print(lowest_grade)"
   ]
  },
  {
   "cell_type": "code",
   "execution_count": 46,
   "id": "f8150011",
   "metadata": {},
   "outputs": [
    {
     "name": "stdout",
     "output_type": "stream",
     "text": [
      "Andy\n",
      "Amy\n"
     ]
    }
   ],
   "source": [
    "for students in marks.keys():\n",
    "    \n",
    "    if 'J' in students:\n",
    "        break\n",
    "    print(students)      "
   ]
  },
  {
   "cell_type": "code",
   "execution_count": 47,
   "id": "565a3a30",
   "metadata": {},
   "outputs": [
    {
     "name": "stdout",
     "output_type": "stream",
     "text": [
      "Andy\n",
      "Amy\n",
      "Arthur\n"
     ]
    }
   ],
   "source": [
    "for students in marks.keys(): \n",
    "    if 'J' in students:\n",
    "        continue\n",
    "    print(students)"
   ]
  },
  {
   "cell_type": "code",
   "execution_count": null,
   "id": "0427da16",
   "metadata": {},
   "outputs": [],
   "source": []
  }
 ],
 "metadata": {
  "kernelspec": {
   "display_name": "Python 3 (ipykernel)",
   "language": "python",
   "name": "python3"
  },
  "language_info": {
   "codemirror_mode": {
    "name": "ipython",
    "version": 3
   },
   "file_extension": ".py",
   "mimetype": "text/x-python",
   "name": "python",
   "nbconvert_exporter": "python",
   "pygments_lexer": "ipython3",
   "version": "3.9.12"
  }
 },
 "nbformat": 4,
 "nbformat_minor": 5
}
